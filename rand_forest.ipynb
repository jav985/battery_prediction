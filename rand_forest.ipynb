{
 "cells": [
  {
   "cell_type": "code",
   "execution_count": 267,
   "id": "71ea0b8b",
   "metadata": {},
   "outputs": [],
   "source": [
    "import pandas as pd\n",
    "import numpy as np\n",
    "import pickle\n",
    "from sklearn.model_selection import train_test_split\n",
    "from sklearn.ensemble import RandomForestRegressor\n",
    "from sklearn.metrics import mean_squared_error, mean_absolute_error, r2_score\n",
    "import matplotlib.pyplot as plt"
   ]
  },
  {
   "cell_type": "code",
   "execution_count": 268,
   "id": "ac107b0e",
   "metadata": {},
   "outputs": [],
   "source": [
    "bat_dict = pickle.load(open(r'./Data/bat_dict.pkl', 'rb'))"
   ]
  },
  {
   "cell_type": "code",
   "execution_count": 269,
   "id": "67a56fa0",
   "metadata": {},
   "outputs": [],
   "source": [
    "all_bat_data = []\n",
    "q_nominal = 1.1\n",
    "\n",
    "for battery_id, data in bat_dict.items():\n",
    "    summary = data[\"summary\"]\n",
    "\n",
    "    cycles = np.array(summary[\"cycle\"][1:])\n",
    "    q_discharge = np.array(summary[\"QD\"][1:])\n",
    "    ir = np.array(summary[\"IR\"][1:])\n",
    "    t_avg = np.array(summary[\"Tavg\"][1:])\n",
    "    t_min = np.array(summary[\"Tmin\"][1:])\n",
    "    t_max = np.array(summary[\"Tmax\"][1:])\n",
    "    charge_time = np.array(summary[\"chargetime\"][1:])\n",
    "    \n",
    "    soh = (q_discharge/q_nominal)\n",
    "\n",
    "    battery_df = pd.DataFrame({\n",
    "        'battery_id': battery_id,\n",
    "        'cycle': cycles,\n",
    "        'soh': soh,\n",
    "        'IR': ir,\n",
    "        'Tavg': t_avg,\n",
    "        'Tmin': t_min,\n",
    "        'Tmax': t_max,\n",
    "        'charge_time': charge_time\n",
    "    })\n",
    "\n",
    "    all_bat_data.append(battery_df)\n",
    "\n",
    "full_df = pd.concat(all_bat_data, ignore_index=True)\n",
    "full_df = full_df.sort_values(by=[\"battery_id\", \"cycle\"]).reset_index(drop=True)"
   ]
  },
  {
   "cell_type": "code",
   "execution_count": 270,
   "id": "30330ebf",
   "metadata": {},
   "outputs": [],
   "source": [
    "del bat_dict"
   ]
  },
  {
   "cell_type": "code",
   "execution_count": 271,
   "id": "6c4b3bd6",
   "metadata": {},
   "outputs": [
    {
     "data": {
      "text/html": [
       "<div>\n",
       "<style scoped>\n",
       "    .dataframe tbody tr th:only-of-type {\n",
       "        vertical-align: middle;\n",
       "    }\n",
       "\n",
       "    .dataframe tbody tr th {\n",
       "        vertical-align: top;\n",
       "    }\n",
       "\n",
       "    .dataframe thead th {\n",
       "        text-align: right;\n",
       "    }\n",
       "</style>\n",
       "<table border=\"1\" class=\"dataframe\">\n",
       "  <thead>\n",
       "    <tr style=\"text-align: right;\">\n",
       "      <th></th>\n",
       "      <th>battery_id</th>\n",
       "      <th>cycle</th>\n",
       "      <th>soh</th>\n",
       "      <th>IR</th>\n",
       "      <th>Tavg</th>\n",
       "      <th>Tmin</th>\n",
       "      <th>Tmax</th>\n",
       "      <th>charge_time</th>\n",
       "    </tr>\n",
       "  </thead>\n",
       "  <tbody>\n",
       "    <tr>\n",
       "      <th>0</th>\n",
       "      <td>b1c0</td>\n",
       "      <td>2.0</td>\n",
       "      <td>0.973354</td>\n",
       "      <td>0.016742</td>\n",
       "      <td>31.875011</td>\n",
       "      <td>29.566130</td>\n",
       "      <td>35.652016</td>\n",
       "      <td>13.341250</td>\n",
       "    </tr>\n",
       "    <tr>\n",
       "      <th>1</th>\n",
       "      <td>b1c0</td>\n",
       "      <td>3.0</td>\n",
       "      <td>0.974455</td>\n",
       "      <td>0.016724</td>\n",
       "      <td>31.931490</td>\n",
       "      <td>29.604385</td>\n",
       "      <td>35.692978</td>\n",
       "      <td>13.425777</td>\n",
       "    </tr>\n",
       "    <tr>\n",
       "      <th>2</th>\n",
       "      <td>b1c0</td>\n",
       "      <td>4.0</td>\n",
       "      <td>0.975009</td>\n",
       "      <td>0.016681</td>\n",
       "      <td>31.932603</td>\n",
       "      <td>29.744202</td>\n",
       "      <td>35.680588</td>\n",
       "      <td>13.425167</td>\n",
       "    </tr>\n",
       "    <tr>\n",
       "      <th>3</th>\n",
       "      <td>b1c0</td>\n",
       "      <td>5.0</td>\n",
       "      <td>0.975613</td>\n",
       "      <td>0.016662</td>\n",
       "      <td>31.959322</td>\n",
       "      <td>29.644709</td>\n",
       "      <td>35.728691</td>\n",
       "      <td>13.341442</td>\n",
       "    </tr>\n",
       "    <tr>\n",
       "      <th>4</th>\n",
       "      <td>b1c0</td>\n",
       "      <td>6.0</td>\n",
       "      <td>0.975978</td>\n",
       "      <td>0.016623</td>\n",
       "      <td>31.961062</td>\n",
       "      <td>29.752932</td>\n",
       "      <td>35.711758</td>\n",
       "      <td>13.340835</td>\n",
       "    </tr>\n",
       "  </tbody>\n",
       "</table>\n",
       "</div>"
      ],
      "text/plain": [
       "  battery_id  cycle       soh        IR       Tavg       Tmin       Tmax  \\\n",
       "0       b1c0    2.0  0.973354  0.016742  31.875011  29.566130  35.652016   \n",
       "1       b1c0    3.0  0.974455  0.016724  31.931490  29.604385  35.692978   \n",
       "2       b1c0    4.0  0.975009  0.016681  31.932603  29.744202  35.680588   \n",
       "3       b1c0    5.0  0.975613  0.016662  31.959322  29.644709  35.728691   \n",
       "4       b1c0    6.0  0.975978  0.016623  31.961062  29.752932  35.711758   \n",
       "\n",
       "   charge_time  \n",
       "0    13.341250  \n",
       "1    13.425777  \n",
       "2    13.425167  \n",
       "3    13.341442  \n",
       "4    13.340835  "
      ]
     },
     "execution_count": 271,
     "metadata": {},
     "output_type": "execute_result"
    }
   ],
   "source": [
    "full_df.head()"
   ]
  },
  {
   "cell_type": "code",
   "execution_count": 272,
   "id": "5f5fef8c",
   "metadata": {},
   "outputs": [],
   "source": [
    "full_df[\"soh_target\"] = full_df.groupby(\"battery_id\")[\"soh\"].shift(-1)\n",
    "\n",
    "for lag in [1,2,3]:\n",
    "    full_df[f\"soh_lag_{lag}\"] = full_df.groupby(\"battery_id\")[\"soh\"].shift(lag)\n",
    "\n",
    "full_df[\"IR_lag_1\"] = full_df.groupby(\"battery_id\")[\"IR\"].shift(1)\n",
    "#full_df[\"Tavg_lag_1\"] = full_df.groupby(\"battery_id\")[\"Tavg\"].shift(1)\n",
    "\n",
    "full_df[\"soh_diff_1\"] = full_df[\"soh\"] - full_df[\"soh_lag_1\"]\n",
    "full_df[\"IR_diff_1\"] = full_df[\"IR\"] - full_df[\"IR_lag_1\"]"
   ]
  },
  {
   "cell_type": "code",
   "execution_count": 273,
   "id": "3def3589",
   "metadata": {},
   "outputs": [
    {
     "name": "stdout",
     "output_type": "stream",
     "text": [
      "336\n"
     ]
    }
   ],
   "source": [
    "num_rows = len(full_df)\n",
    "full_df.dropna(inplace=True)\n",
    "print(num_rows - len(full_df))"
   ]
  },
  {
   "cell_type": "code",
   "execution_count": 274,
   "id": "0d3818de",
   "metadata": {},
   "outputs": [
    {
     "data": {
      "text/html": [
       "<div>\n",
       "<style scoped>\n",
       "    .dataframe tbody tr th:only-of-type {\n",
       "        vertical-align: middle;\n",
       "    }\n",
       "\n",
       "    .dataframe tbody tr th {\n",
       "        vertical-align: top;\n",
       "    }\n",
       "\n",
       "    .dataframe thead th {\n",
       "        text-align: right;\n",
       "    }\n",
       "</style>\n",
       "<table border=\"1\" class=\"dataframe\">\n",
       "  <thead>\n",
       "    <tr style=\"text-align: right;\">\n",
       "      <th></th>\n",
       "      <th>battery_id</th>\n",
       "      <th>cycle</th>\n",
       "      <th>soh</th>\n",
       "      <th>IR</th>\n",
       "      <th>Tavg</th>\n",
       "      <th>Tmin</th>\n",
       "      <th>Tmax</th>\n",
       "      <th>charge_time</th>\n",
       "      <th>soh_target</th>\n",
       "      <th>soh_lag_1</th>\n",
       "      <th>soh_lag_2</th>\n",
       "      <th>soh_lag_3</th>\n",
       "      <th>IR_lag_1</th>\n",
       "      <th>soh_diff_1</th>\n",
       "      <th>IR_diff_1</th>\n",
       "    </tr>\n",
       "  </thead>\n",
       "  <tbody>\n",
       "    <tr>\n",
       "      <th>3</th>\n",
       "      <td>b1c0</td>\n",
       "      <td>5.0</td>\n",
       "      <td>0.975613</td>\n",
       "      <td>0.016662</td>\n",
       "      <td>31.959322</td>\n",
       "      <td>29.644709</td>\n",
       "      <td>35.728691</td>\n",
       "      <td>13.341442</td>\n",
       "      <td>0.975978</td>\n",
       "      <td>0.975009</td>\n",
       "      <td>0.974455</td>\n",
       "      <td>0.973354</td>\n",
       "      <td>0.016681</td>\n",
       "      <td>0.000604</td>\n",
       "      <td>-0.000019</td>\n",
       "    </tr>\n",
       "    <tr>\n",
       "      <th>4</th>\n",
       "      <td>b1c0</td>\n",
       "      <td>6.0</td>\n",
       "      <td>0.975978</td>\n",
       "      <td>0.016623</td>\n",
       "      <td>31.961062</td>\n",
       "      <td>29.752932</td>\n",
       "      <td>35.711758</td>\n",
       "      <td>13.340835</td>\n",
       "      <td>0.976356</td>\n",
       "      <td>0.975613</td>\n",
       "      <td>0.975009</td>\n",
       "      <td>0.974455</td>\n",
       "      <td>0.016662</td>\n",
       "      <td>0.000366</td>\n",
       "      <td>-0.000038</td>\n",
       "    </tr>\n",
       "    <tr>\n",
       "      <th>5</th>\n",
       "      <td>b1c0</td>\n",
       "      <td>7.0</td>\n",
       "      <td>0.976356</td>\n",
       "      <td>0.016600</td>\n",
       "      <td>31.900562</td>\n",
       "      <td>29.564377</td>\n",
       "      <td>35.615650</td>\n",
       "      <td>13.340198</td>\n",
       "      <td>0.976704</td>\n",
       "      <td>0.975978</td>\n",
       "      <td>0.975613</td>\n",
       "      <td>0.975009</td>\n",
       "      <td>0.016623</td>\n",
       "      <td>0.000378</td>\n",
       "      <td>-0.000024</td>\n",
       "    </tr>\n",
       "    <tr>\n",
       "      <th>6</th>\n",
       "      <td>b1c0</td>\n",
       "      <td>8.0</td>\n",
       "      <td>0.976704</td>\n",
       "      <td>0.016577</td>\n",
       "      <td>31.921668</td>\n",
       "      <td>29.628630</td>\n",
       "      <td>35.546783</td>\n",
       "      <td>13.425442</td>\n",
       "      <td>0.976811</td>\n",
       "      <td>0.976356</td>\n",
       "      <td>0.975978</td>\n",
       "      <td>0.975613</td>\n",
       "      <td>0.016600</td>\n",
       "      <td>0.000348</td>\n",
       "      <td>-0.000023</td>\n",
       "    </tr>\n",
       "    <tr>\n",
       "      <th>7</th>\n",
       "      <td>b1c0</td>\n",
       "      <td>9.0</td>\n",
       "      <td>0.976811</td>\n",
       "      <td>0.016588</td>\n",
       "      <td>31.870082</td>\n",
       "      <td>29.597345</td>\n",
       "      <td>35.539406</td>\n",
       "      <td>13.425190</td>\n",
       "      <td>0.976852</td>\n",
       "      <td>0.976704</td>\n",
       "      <td>0.976356</td>\n",
       "      <td>0.975978</td>\n",
       "      <td>0.016577</td>\n",
       "      <td>0.000107</td>\n",
       "      <td>0.000011</td>\n",
       "    </tr>\n",
       "  </tbody>\n",
       "</table>\n",
       "</div>"
      ],
      "text/plain": [
       "  battery_id  cycle       soh        IR       Tavg       Tmin       Tmax  \\\n",
       "3       b1c0    5.0  0.975613  0.016662  31.959322  29.644709  35.728691   \n",
       "4       b1c0    6.0  0.975978  0.016623  31.961062  29.752932  35.711758   \n",
       "5       b1c0    7.0  0.976356  0.016600  31.900562  29.564377  35.615650   \n",
       "6       b1c0    8.0  0.976704  0.016577  31.921668  29.628630  35.546783   \n",
       "7       b1c0    9.0  0.976811  0.016588  31.870082  29.597345  35.539406   \n",
       "\n",
       "   charge_time  soh_target  soh_lag_1  soh_lag_2  soh_lag_3  IR_lag_1  \\\n",
       "3    13.341442    0.975978   0.975009   0.974455   0.973354  0.016681   \n",
       "4    13.340835    0.976356   0.975613   0.975009   0.974455  0.016662   \n",
       "5    13.340198    0.976704   0.975978   0.975613   0.975009  0.016623   \n",
       "6    13.425442    0.976811   0.976356   0.975978   0.975613  0.016600   \n",
       "7    13.425190    0.976852   0.976704   0.976356   0.975978  0.016577   \n",
       "\n",
       "   soh_diff_1  IR_diff_1  \n",
       "3    0.000604  -0.000019  \n",
       "4    0.000366  -0.000038  \n",
       "5    0.000378  -0.000024  \n",
       "6    0.000348  -0.000023  \n",
       "7    0.000107   0.000011  "
      ]
     },
     "execution_count": 274,
     "metadata": {},
     "output_type": "execute_result"
    }
   ],
   "source": [
    "full_df.head()"
   ]
  },
  {
   "cell_type": "code",
   "execution_count": 275,
   "id": "b4f8774d",
   "metadata": {},
   "outputs": [],
   "source": [
    "features = [\n",
    "    \"cycle\",\n",
    "    \"soh\",\n",
    "    \"IR\",\n",
    "    \"Tavg\",\n",
    "    \"Tmax\",\n",
    "    \"charge_time\",\n",
    "    \"soh_lag_1\",\n",
    "    \"soh_lag_2\",\n",
    "    \"soh_lag_3\",\n",
    "    \"soh_diff_1\",\n",
    "    \"IR_diff_1\"\n",
    "]\n",
    "\n",
    "X = full_df[features]\n",
    "y = full_df[\"soh_target\"]"
   ]
  },
  {
   "cell_type": "code",
   "execution_count": 276,
   "id": "bbb2482d",
   "metadata": {},
   "outputs": [
    {
     "name": "stdout",
     "output_type": "stream",
     "text": [
      "['b1c29' 'b1c37' 'b1c34' 'b2c33' 'b1c4' 'b2c19' 'b1c45' 'b1c30' 'b1c31'\n",
      " 'b2c24' 'b2c43' 'b2c0' 'b2c6' 'b1c38' 'b1c9' 'b2c17' 'b1c2' 'b2c36'\n",
      " 'b1c21' 'b1c32' 'b2c47']\n"
     ]
    }
   ],
   "source": [
    "all_batteries = full_df[\"battery_id\"].unique()\n",
    "\n",
    "test_ids = np.random.choice(all_batteries, size=int(0.25 * len(all_batteries)), replace=False)\n",
    "print(test_ids)"
   ]
  },
  {
   "cell_type": "code",
   "execution_count": 277,
   "id": "65633834",
   "metadata": {},
   "outputs": [],
   "source": [
    "train_ids = full_df[~full_df[\"battery_id\"].isin(test_ids)].index\n",
    "test_ids = full_df[full_df[\"battery_id\"].isin(test_ids)].index\n",
    "\n",
    "X_train = X.loc[train_ids]\n",
    "y_train = y.loc[train_ids]\n",
    "\n",
    "X_test = X.loc[test_ids]\n",
    "y_test = y.loc[test_ids]\n",
    "\n",
    "test_df = full_df.loc[test_ids, [\"battery_id\", \"cycle\", \"soh\", \"soh_target\"]].copy()"
   ]
  },
  {
   "cell_type": "code",
   "execution_count": 278,
   "id": "72624230",
   "metadata": {},
   "outputs": [
    {
     "name": "stdout",
     "output_type": "stream",
     "text": [
      "(42813, 11) (42813,) (16028, 11) (16028,)\n"
     ]
    }
   ],
   "source": [
    "print(X_train.shape, y_train.shape, X_test.shape, y_test.shape)"
   ]
  },
  {
   "cell_type": "code",
   "execution_count": 279,
   "id": "7357cbbd",
   "metadata": {},
   "outputs": [],
   "source": [
    "rf_model = RandomForestRegressor(n_estimators=100, n_jobs=-1, max_features=\"sqrt\", min_samples_split=5, min_samples_leaf=2, oob_score=True, random_state=131)"
   ]
  },
  {
   "cell_type": "code",
   "execution_count": 280,
   "id": "238b767f",
   "metadata": {},
   "outputs": [
    {
     "name": "stdout",
     "output_type": "stream",
     "text": [
      "0.9700285848074719\n"
     ]
    }
   ],
   "source": [
    "rf_model.fit(X_train, y_train)\n",
    "print(rf_model.oob_score_)"
   ]
  },
  {
   "cell_type": "code",
   "execution_count": 281,
   "id": "eabf4191",
   "metadata": {},
   "outputs": [
    {
     "name": "stdout",
     "output_type": "stream",
     "text": [
      "0.0024910342556496105 0.0006503672224296347 0.9976176718218271\n"
     ]
    }
   ],
   "source": [
    "y_pred_test = rf_model.predict(X_test)\n",
    "test_df[\"soh_pred\"] = y_pred_test\n",
    "\n",
    "test_rmse = np.sqrt(mean_squared_error(y_test, y_pred_test))\n",
    "test_mae = mean_absolute_error(y_test, y_pred_test)\n",
    "test_r2 = r2_score(y_test, y_pred_test)\n",
    "\n",
    "print(test_rmse, test_mae, test_r2)"
   ]
  },
  {
   "cell_type": "code",
   "execution_count": 282,
   "id": "a475c794",
   "metadata": {},
   "outputs": [
    {
     "data": {
      "text/html": [
       "<div>\n",
       "<style scoped>\n",
       "    .dataframe tbody tr th:only-of-type {\n",
       "        vertical-align: middle;\n",
       "    }\n",
       "\n",
       "    .dataframe tbody tr th {\n",
       "        vertical-align: top;\n",
       "    }\n",
       "\n",
       "    .dataframe thead th {\n",
       "        text-align: right;\n",
       "    }\n",
       "</style>\n",
       "<table border=\"1\" class=\"dataframe\">\n",
       "  <thead>\n",
       "    <tr style=\"text-align: right;\">\n",
       "      <th></th>\n",
       "      <th>feature</th>\n",
       "      <th>importance</th>\n",
       "    </tr>\n",
       "  </thead>\n",
       "  <tbody>\n",
       "    <tr>\n",
       "      <th>6</th>\n",
       "      <td>soh_lag_1</td>\n",
       "      <td>0.239379</td>\n",
       "    </tr>\n",
       "    <tr>\n",
       "      <th>7</th>\n",
       "      <td>soh_lag_2</td>\n",
       "      <td>0.227965</td>\n",
       "    </tr>\n",
       "    <tr>\n",
       "      <th>1</th>\n",
       "      <td>soh</td>\n",
       "      <td>0.209299</td>\n",
       "    </tr>\n",
       "    <tr>\n",
       "      <th>8</th>\n",
       "      <td>soh_lag_3</td>\n",
       "      <td>0.190474</td>\n",
       "    </tr>\n",
       "    <tr>\n",
       "      <th>2</th>\n",
       "      <td>IR</td>\n",
       "      <td>0.061514</td>\n",
       "    </tr>\n",
       "    <tr>\n",
       "      <th>5</th>\n",
       "      <td>charge_time</td>\n",
       "      <td>0.039403</td>\n",
       "    </tr>\n",
       "    <tr>\n",
       "      <th>9</th>\n",
       "      <td>soh_diff_1</td>\n",
       "      <td>0.019837</td>\n",
       "    </tr>\n",
       "    <tr>\n",
       "      <th>0</th>\n",
       "      <td>cycle</td>\n",
       "      <td>0.009116</td>\n",
       "    </tr>\n",
       "    <tr>\n",
       "      <th>3</th>\n",
       "      <td>Tavg</td>\n",
       "      <td>0.001406</td>\n",
       "    </tr>\n",
       "    <tr>\n",
       "      <th>4</th>\n",
       "      <td>Tmax</td>\n",
       "      <td>0.001401</td>\n",
       "    </tr>\n",
       "    <tr>\n",
       "      <th>10</th>\n",
       "      <td>IR_diff_1</td>\n",
       "      <td>0.000205</td>\n",
       "    </tr>\n",
       "  </tbody>\n",
       "</table>\n",
       "</div>"
      ],
      "text/plain": [
       "        feature  importance\n",
       "6     soh_lag_1    0.239379\n",
       "7     soh_lag_2    0.227965\n",
       "1           soh    0.209299\n",
       "8     soh_lag_3    0.190474\n",
       "2            IR    0.061514\n",
       "5   charge_time    0.039403\n",
       "9    soh_diff_1    0.019837\n",
       "0         cycle    0.009116\n",
       "3          Tavg    0.001406\n",
       "4          Tmax    0.001401\n",
       "10    IR_diff_1    0.000205"
      ]
     },
     "execution_count": 282,
     "metadata": {},
     "output_type": "execute_result"
    }
   ],
   "source": [
    "importances = rf_model.feature_importances_\n",
    "\n",
    "feature_importances = pd.DataFrame({\n",
    "    \"feature\": features,\n",
    "    \"importance\": importances\n",
    "})\n",
    "\n",
    "feature_importances.sort_values(by=\"importance\", ascending=False)"
   ]
  },
  {
   "cell_type": "code",
   "execution_count": 283,
   "id": "b7feaeea",
   "metadata": {},
   "outputs": [
    {
     "data": {
      "image/png": "[encoded data removed]",
      "text/plain": [
       "<Figure size 1200x600 with 1 Axes>"
      ]
     },
     "metadata": {},
     "output_type": "display_data"
    }
   ],
   "source": [
    "plt.figure(figsize=(12,6))\n",
    "plt.bar(feature_importances[\"feature\"], feature_importances[\"importance\"])\n",
    "plt.xlabel(\"Feature\")\n",
    "plt.ylabel(\"Importance\")\n",
    "plt.title(\"Feature Importances\")\n",
    "plt.show()"
   ]
  },
  {
   "cell_type": "code",
   "execution_count": 284,
   "id": "0f544100",
   "metadata": {},
   "outputs": [
    {
     "name": "stdout",
     "output_type": "stream",
     "text": [
      "0.9702339802359933\n"
     ]
    }
   ],
   "source": [
    "features = [\n",
    "    \"soh\",\n",
    "    \"IR\",\n",
    "    \"charge_time\",\n",
    "    \"soh_lag_1\",\n",
    "    \"soh_lag_2\",\n",
    "    \"soh_lag_3\"\n",
    "]\n",
    "\n",
    "X = full_df[features]\n",
    "y = full_df[\"soh_target\"]\n",
    "\n",
    "X_train = X.loc[train_ids]\n",
    "y_train = y.loc[train_ids]\n",
    "\n",
    "X_test = X.loc[test_ids]\n",
    "y_test = y.loc[test_ids]\n",
    "\n",
    "test_df = full_df.loc[test_ids, [\"battery_id\", \"cycle\", \"soh\", \"soh_target\"]].copy()\n",
    "\n",
    "rf_model = RandomForestRegressor(n_estimators=100, n_jobs=-1, max_features=\"sqrt\", min_samples_split=5, min_samples_leaf=2, oob_score=True, random_state=131)\n",
    "rf_model.fit(X_train, y_train)\n",
    "print(rf_model.oob_score_)"
   ]
  },
  {
   "cell_type": "code",
   "execution_count": 285,
   "id": "c9c07dab",
   "metadata": {},
   "outputs": [
    {
     "name": "stdout",
     "output_type": "stream",
     "text": [
      "0.0017947320034816022 0.0004122406212550971 0.9987633653749212\n"
     ]
    }
   ],
   "source": [
    "y_pred_test = rf_model.predict(X_test)\n",
    "test_df[\"soh_pred\"] = y_pred_test\n",
    "\n",
    "test_rmse = np.sqrt(mean_squared_error(y_test, y_pred_test))\n",
    "test_mae = mean_absolute_error(y_test, y_pred_test)\n",
    "test_r2 = r2_score(y_test, y_pred_test)\n",
    "\n",
    "print(test_rmse, test_mae, test_r2)"
   ]
  },
  {
   "cell_type": "code",
   "execution_count": 286,
   "id": "725e0456",
   "metadata": {},
   "outputs": [
    {
     "data": {
      "text/html": [
       "<div>\n",
       "<style scoped>\n",
       "    .dataframe tbody tr th:only-of-type {\n",
       "        vertical-align: middle;\n",
       "    }\n",
       "\n",
       "    .dataframe tbody tr th {\n",
       "        vertical-align: top;\n",
       "    }\n",
       "\n",
       "    .dataframe thead th {\n",
       "        text-align: right;\n",
       "    }\n",
       "</style>\n",
       "<table border=\"1\" class=\"dataframe\">\n",
       "  <thead>\n",
       "    <tr style=\"text-align: right;\">\n",
       "      <th></th>\n",
       "      <th>feature</th>\n",
       "      <th>importance</th>\n",
       "    </tr>\n",
       "  </thead>\n",
       "  <tbody>\n",
       "    <tr>\n",
       "      <th>0</th>\n",
       "      <td>soh</td>\n",
       "      <td>0.293283</td>\n",
       "    </tr>\n",
       "    <tr>\n",
       "      <th>4</th>\n",
       "      <td>soh_lag_2</td>\n",
       "      <td>0.239895</td>\n",
       "    </tr>\n",
       "    <tr>\n",
       "      <th>3</th>\n",
       "      <td>soh_lag_1</td>\n",
       "      <td>0.230697</td>\n",
       "    </tr>\n",
       "    <tr>\n",
       "      <th>5</th>\n",
       "      <td>soh_lag_3</td>\n",
       "      <td>0.201539</td>\n",
       "    </tr>\n",
       "    <tr>\n",
       "      <th>2</th>\n",
       "      <td>charge_time</td>\n",
       "      <td>0.024367</td>\n",
       "    </tr>\n",
       "    <tr>\n",
       "      <th>1</th>\n",
       "      <td>IR</td>\n",
       "      <td>0.010219</td>\n",
       "    </tr>\n",
       "  </tbody>\n",
       "</table>\n",
       "</div>"
      ],
      "text/plain": [
       "       feature  importance\n",
       "0          soh    0.293283\n",
       "4    soh_lag_2    0.239895\n",
       "3    soh_lag_1    0.230697\n",
       "5    soh_lag_3    0.201539\n",
       "2  charge_time    0.024367\n",
       "1           IR    0.010219"
      ]
     },
     "execution_count": 286,
     "metadata": {},
     "output_type": "execute_result"
    }
   ],
   "source": [
    "importances = rf_model.feature_importances_\n",
    "\n",
    "feature_importances = pd.DataFrame({\n",
    "    \"feature\": features,\n",
    "    \"importance\": importances\n",
    "})\n",
    "\n",
    "feature_importances.sort_values(by=\"importance\", ascending=False)"
   ]
  },
  {
   "cell_type": "code",
   "execution_count": null,
   "id": "d5313625",
   "metadata": {},
   "outputs": [],
   "source": []
  }
 ],
 "metadata": {
  "kernelspec": {
   "display_name": "battery",
   "language": "python",
   "name": "battery"
  },
  "language_info": {
   "codemirror_mode": {
    "name": "ipython",
    "version": 3
   },
   "file_extension": ".py",
   "mimetype": "text/x-python",
   "name": "python",
   "nbconvert_exporter": "python",
   "pygments_lexer": "ipython3",
   "version": "3.10.17"
  }
 },
 "nbformat": 4,
 "nbformat_minor": 5
}
