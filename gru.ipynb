{
 "cells": [
  {
   "cell_type": "code",
   "execution_count": 2,
   "id": "ae3a0afc",
   "metadata": {},
   "outputs": [],
   "source": [
    "import pickle\n",
    "import pandas as pd\n",
    "import numpy as np\n",
    "import matplotlib.pyplot as plt\n",
    "from sklearn.model_selection import train_test_split\n",
    "from sklearn.preprocessing import MinMaxScaler\n",
    "import torch\n",
    "from torch.nn.utils.rnn import pad_sequence, pack_padded_sequence, pad_packed_sequence\n",
    "from torch.utils.data import Dataset, DataLoader"
   ]
  },
  {
   "cell_type": "code",
   "execution_count": 3,
   "id": "10df0e14",
   "metadata": {},
   "outputs": [
    {
     "data": {
      "text/plain": [
       "True"
      ]
     },
     "execution_count": 3,
     "metadata": {},
     "output_type": "execute_result"
    }
   ],
   "source": [
    "torch.cuda.is_available()"
   ]
  },
  {
   "cell_type": "code",
   "execution_count": 5,
   "id": "cb8ffa5e",
   "metadata": {},
   "outputs": [],
   "source": [
    "bat_dict = pickle.load(open(r'./Data/bat_dict.pkl', 'rb'))"
   ]
  },
  {
   "cell_type": "code",
   "execution_count": 6,
   "id": "688eee78",
   "metadata": {},
   "outputs": [
    {
     "name": "stdout",
     "output_type": "stream",
     "text": [
      "dict_keys(['b1c0', 'b1c1', 'b1c2', 'b1c3', 'b1c4', 'b1c5', 'b1c6', 'b1c7', 'b1c9', 'b1c11', 'b1c14', 'b1c15', 'b1c16', 'b1c17', 'b1c18', 'b1c19', 'b1c20', 'b1c21', 'b1c23', 'b1c24', 'b1c25', 'b1c26', 'b1c27', 'b1c28', 'b1c29', 'b1c30', 'b1c31', 'b1c32', 'b1c33', 'b1c34', 'b1c35', 'b1c36', 'b1c37', 'b1c38', 'b1c39', 'b1c40', 'b1c41', 'b1c42', 'b1c43', 'b1c44', 'b1c45', 'b2c0', 'b2c1', 'b2c2', 'b2c3', 'b2c4', 'b2c5', 'b2c6', 'b2c10', 'b2c11', 'b2c12', 'b2c13', 'b2c14', 'b2c17', 'b2c18', 'b2c19', 'b2c20', 'b2c21', 'b2c22', 'b2c23', 'b2c24', 'b2c25', 'b2c26', 'b2c27', 'b2c28', 'b2c29', 'b2c30', 'b2c31', 'b2c32', 'b2c33', 'b2c34', 'b2c35', 'b2c36', 'b2c37', 'b2c38', 'b2c39', 'b2c40', 'b2c41', 'b2c42', 'b2c43', 'b2c44', 'b2c45', 'b2c46', 'b2c47'])\n",
      "dict_keys(['cycle_life', 'charge_policy', 'summary', 'cycles'])\n",
      "dict_keys(['IR', 'QC', 'QD', 'Tavg', 'Tmin', 'Tmax', 'chargetime', 'cycle'])\n"
     ]
    }
   ],
   "source": [
    "print(bat_dict.keys())\n",
    "print(bat_dict[\"b1c0\"].keys())\n",
    "print(bat_dict[\"b1c0\"][\"summary\"].keys())"
   ]
  },
  {
   "cell_type": "code",
   "execution_count": 7,
   "id": "3aceba16",
   "metadata": {},
   "outputs": [
    {
     "name": "stdout",
     "output_type": "stream",
     "text": [
      "['b1c0', 'b1c1', 'b1c2', 'b1c3', 'b1c4', 'b1c5', 'b1c6', 'b1c7', 'b1c9', 'b1c11', 'b1c14', 'b1c15', 'b1c16', 'b1c17', 'b1c18', 'b1c19', 'b1c20', 'b1c21', 'b1c23', 'b1c24', 'b1c25', 'b1c26', 'b1c27', 'b1c28', 'b1c29', 'b1c30', 'b1c31', 'b1c32', 'b1c33', 'b1c34', 'b1c35', 'b1c36', 'b1c37', 'b1c38', 'b1c39', 'b1c40', 'b1c41', 'b1c42', 'b1c43', 'b1c44', 'b1c45']\n",
      "['b1c0', 'b1c18', 'b2c12', 'b2c44']\n"
     ]
    }
   ],
   "source": [
    "b1 = []\n",
    "b2 = []\n",
    "\n",
    "for bat in bat_dict.keys():\n",
    "    if bat_dict[bat][\"summary\"][\"QD\"][0] < 0.9:\n",
    "        b1.append(bat)\n",
    "    \n",
    "    for i in range(1, len(bat_dict[bat][\"summary\"][\"QD\"])):\n",
    "        if bat_dict[bat][\"summary\"][\"QD\"][i] > 1.1:\n",
    "            b2.append(bat)\n",
    "\n",
    "print(b1)\n",
    "print(b2)"
   ]
  },
  {
   "cell_type": "code",
   "execution_count": 8,
   "id": "78a4b677",
   "metadata": {},
   "outputs": [
    {
     "name": "stdout",
     "output_type": "stream",
     "text": [
      "2237.0 148.0\n"
     ]
    }
   ],
   "source": [
    "max_cycle = -np.inf\n",
    "min_cycle = np.inf\n",
    "\n",
    "for bat in bat_dict.keys():\n",
    "    if bat_dict[bat][\"cycle_life\"] > max_cycle:\n",
    "        max_cycle = bat_dict[bat][\"cycle_life\"][0][0]\n",
    "    \n",
    "    if bat_dict[bat][\"cycle_life\"] < min_cycle:\n",
    "        min_cycle = bat_dict[bat][\"cycle_life\"][0][0]\n",
    "\n",
    "print(max_cycle, min_cycle)"
   ]
  },
  {
   "cell_type": "code",
   "execution_count": 9,
   "id": "e2dbfe72",
   "metadata": {},
   "outputs": [],
   "source": [
    "for bat in bat_dict.keys():\n",
    "    if bat in b1:\n",
    "        for key in bat_dict[bat][\"summary\"].keys():\n",
    "            bat_dict[bat][\"summary\"][key] = bat_dict[bat][\"summary\"][key][1:]"
   ]
  },
  {
   "cell_type": "code",
   "execution_count": null,
   "id": "2b332976",
   "metadata": {},
   "outputs": [],
   "source": [
    "class BatteryDataset(Dataset):\n",
    "    def __init__(self, bat_dict, features, target):\n",
    "        self.seqs = []\n",
    "        for key, rec in bat_dict.items():\n",
    "            data = rec[\"summary\"]\n",
    "            seq = torch.tensor([[d[f] for f in features] for d in data], dtype=torch.float)\n",
    "            self.seqs.append(seq)\n",
    "        self.target = target\n",
    "    \n",
    "    def __len__(self):\n",
    "        return len(self.seqs)\n",
    "    \n",
    "    def __getitem__(self, idx):\n",
    "        seq = self.seqs[idx]\n",
    "        return seq[:-1], seq[1:] #input is all but last, target is all but first"
   ]
  },
  {
   "cell_type": "code",
   "execution_count": 11,
   "id": "bf75ca89",
   "metadata": {},
   "outputs": [],
   "source": [
    "def collate_fn(batch):\n",
    "    # batch is list of (inp_seq, target_seq)\n",
    "    inputs, targets = zip(*batch)\n",
    "    lengths = torch.tensor([s.size(0) for s in inputs])\n",
    "    inputs_padded = pad_sequence(inputs, batch_first=True)\n",
    "    targets_padded = pad_sequence(targets, batch_first=True)\n",
    "\n",
    "    #pack for rnn\n",
    "    packed_inputs = pack_padded_sequence(inputs_padded, lengths, batch_first=True, enforce_sorted=False)\n",
    "    return packed_inputs, targets_padded, lengths"
   ]
  },
  {
   "cell_type": "code",
   "execution_count": null,
   "id": "78ba2eaa",
   "metadata": {},
   "outputs": [],
   "source": [
    "q_nominal = 1.1\n",
    "features = [\"cycle\", \"IR\", \"QC\", \"Tavg\", \"Tmin\", \"Tmax\", \"chargetime\"]\n",
    "target = [\"QD\"]"
   ]
  },
  {
   "cell_type": "code",
   "execution_count": null,
   "id": "da2f59c8",
   "metadata": {},
   "outputs": [],
   "source": []
  }
 ],
 "metadata": {
  "kernelspec": {
   "display_name": "battery",
   "language": "python",
   "name": "battery"
  },
  "language_info": {
   "codemirror_mode": {
    "name": "ipython",
    "version": 3
   },
   "file_extension": ".py",
   "mimetype": "text/x-python",
   "name": "python",
   "nbconvert_exporter": "python",
   "pygments_lexer": "ipython3",
   "version": "3.10.17"
  }
 },
 "nbformat": 4,
 "nbformat_minor": 5
}
