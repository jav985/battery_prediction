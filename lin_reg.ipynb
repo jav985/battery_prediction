{
 "cells": [
  {
   "cell_type": "code",
   "execution_count": 1,
   "id": "ae3a0afc",
   "metadata": {},
   "outputs": [],
   "source": [
    "import pandas as pd\n",
    "import numpy as np\n",
    "import pickle\n",
    "from sklearn.model_selection import train_test_split\n",
    "from sklearn.ensemble import RandomForestRegressor\n",
    "from sklearn.metrics import mean_squared_error, mean_absolute_error, r2_score\n",
    "import matplotlib.pyplot as plt"
   ]
  },
  {
   "cell_type": "code",
   "execution_count": 2,
   "id": "cb8ffa5e",
   "metadata": {},
   "outputs": [],
   "source": [
    "bat_dict = pickle.load(open(r'./Data/bat_dict.pkl', 'rb'))"
   ]
  },
  {
   "cell_type": "code",
   "execution_count": 3,
   "id": "3aceba16",
   "metadata": {},
   "outputs": [
    {
     "name": "stdout",
     "output_type": "stream",
     "text": [
      "['b1c0', 'b1c1', 'b1c2', 'b1c3', 'b1c4', 'b1c5', 'b1c6', 'b1c7', 'b1c9', 'b1c11', 'b1c14', 'b1c15', 'b1c16', 'b1c17', 'b1c18', 'b1c19', 'b1c20', 'b1c21', 'b1c23', 'b1c24', 'b1c25', 'b1c26', 'b1c27', 'b1c28', 'b1c29', 'b1c30', 'b1c31', 'b1c32', 'b1c33', 'b1c34', 'b1c35', 'b1c36', 'b1c37', 'b1c38', 'b1c39', 'b1c40', 'b1c41', 'b1c42', 'b1c43', 'b1c44', 'b1c45']\n"
     ]
    }
   ],
   "source": [
    "b1 = []\n",
    "\n",
    "for bat in bat_dict.keys():\n",
    "    if bat_dict[bat][\"summary\"][\"QD\"][0] < 0.9:\n",
    "        b1.append(bat)\n",
    "\n",
    "print(b1)"
   ]
  },
  {
   "cell_type": "code",
   "execution_count": 6,
   "id": "78ba2eaa",
   "metadata": {},
   "outputs": [
    {
     "name": "stdout",
     "output_type": "stream",
     "text": [
      "dict_keys(['b1c0', 'b1c1', 'b1c2', 'b1c3', 'b1c4', 'b1c5', 'b1c6', 'b1c7', 'b1c9', 'b1c11', 'b1c14', 'b1c15', 'b1c16', 'b1c17', 'b1c18', 'b1c19', 'b1c20', 'b1c21', 'b1c23', 'b1c24', 'b1c25', 'b1c26', 'b1c27', 'b1c28', 'b1c29', 'b1c30', 'b1c31', 'b1c32', 'b1c33', 'b1c34', 'b1c35', 'b1c36', 'b1c37', 'b1c38', 'b1c39', 'b1c40', 'b1c41', 'b1c42', 'b1c43', 'b1c44', 'b1c45', 'b2c0', 'b2c1', 'b2c2', 'b2c3', 'b2c4', 'b2c5', 'b2c6', 'b2c10', 'b2c11', 'b2c12', 'b2c13', 'b2c14', 'b2c17', 'b2c18', 'b2c19', 'b2c20', 'b2c21', 'b2c22', 'b2c23', 'b2c24', 'b2c25', 'b2c26', 'b2c27', 'b2c28', 'b2c29', 'b2c30', 'b2c31', 'b2c32', 'b2c33', 'b2c34', 'b2c35', 'b2c36', 'b2c37', 'b2c38', 'b2c39', 'b2c40', 'b2c41', 'b2c42', 'b2c43', 'b2c44', 'b2c45', 'b2c46', 'b2c47'])\n",
      "1.0      0.970961\n",
      "2.0      0.972776\n",
      "3.0      0.974463\n",
      "4.0      0.975423\n",
      "5.0      0.974463\n",
      "           ...   \n",
      "322.0    0.758106\n",
      "323.0    0.756778\n",
      "324.0    0.754752\n",
      "325.0    0.752456\n",
      "326.0    0.751356\n",
      "Length: 326, dtype: float64\n"
     ]
    }
   ],
   "source": [
    "q_nominal = 1.1\n",
    "\n",
    "soh_data = {}\n",
    "\n",
    "for bat in bat_dict.keys():\n",
    "    df = pd.DataFrame(bat_dict[bat]['summary'])\n",
    "\n",
    "    if bat in b1:\n",
    "        df = df.iloc[1:]\n",
    "\n",
    "    df[\"QD\"] = pd.to_numeric(df[\"QD\"], errors='coerce')\n",
    "    df[\"cycle\"] = pd.to_numeric(df[\"cycle\"], errors='coerce')\n",
    "    df = df.sort_values(by=['cycle']).dropna(subset=[\"QD\"])\n",
    "\n",
    "    q_cur = df[\"QD\"]\n",
    "    soh_val = q_cur/q_nominal\n",
    "    soh_data[bat] = pd.Series(soh_val.values, index=df[\"cycle\"].values)\n",
    "\n",
    "print(soh_data.keys())\n",
    "print(soh_data[\"b2c0\"])"
   ]
  },
  {
   "cell_type": "code",
   "execution_count": null,
   "id": "9d63e6c7",
   "metadata": {},
   "outputs": [],
   "source": [
    "# features for autoregression\n"
   ]
  }
 ],
 "metadata": {
  "kernelspec": {
   "display_name": "battery",
   "language": "python",
   "name": "battery"
  },
  "language_info": {
   "codemirror_mode": {
    "name": "ipython",
    "version": 3
   },
   "file_extension": ".py",
   "mimetype": "text/x-python",
   "name": "python",
   "nbconvert_exporter": "python",
   "pygments_lexer": "ipython3",
   "version": "3.10.17"
  }
 },
 "nbformat": 4,
 "nbformat_minor": 5
}
